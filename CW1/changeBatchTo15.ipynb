{
  "nbformat": 4,
  "nbformat_minor": 0,
  "metadata": {
    "colab": {
      "name": "changeBatchTo15",
      "provenance": [],
      "collapsed_sections": []
    },
    "kernelspec": {
      "name": "python3",
      "display_name": "Python 3"
    },
    "language_info": {
      "name": "python"
    }
  },
  "cells": [
    {
      "cell_type": "markdown",
      "source": [
        "# Loading MNIST data"
      ],
      "metadata": {
        "id": "qpcSmjZmggrw"
      }
    },
    {
      "cell_type": "code",
      "execution_count": null,
      "metadata": {
        "id": "MS4jbB5gY5iY",
        "colab": {
          "base_uri": "https://localhost:8080/"
        },
        "outputId": "320d55dc-81d8-48f3-f16b-c4f436adee12"
      },
      "outputs": [
        {
          "output_type": "stream",
          "name": "stdout",
          "text": [
            "Requirement already satisfied: extra-keras-datasets in /usr/local/lib/python3.7/dist-packages (1.2.0)\n",
            "Requirement already satisfied: numpy in /usr/local/lib/python3.7/dist-packages (from extra-keras-datasets) (1.21.5)\n",
            "Requirement already satisfied: pandas in /usr/local/lib/python3.7/dist-packages (from extra-keras-datasets) (1.3.5)\n",
            "Requirement already satisfied: scipy in /usr/local/lib/python3.7/dist-packages (from extra-keras-datasets) (1.4.1)\n",
            "Requirement already satisfied: scikit-learn in /usr/local/lib/python3.7/dist-packages (from extra-keras-datasets) (1.0.2)\n",
            "Requirement already satisfied: python-dateutil>=2.7.3 in /usr/local/lib/python3.7/dist-packages (from pandas->extra-keras-datasets) (2.8.2)\n",
            "Requirement already satisfied: pytz>=2017.3 in /usr/local/lib/python3.7/dist-packages (from pandas->extra-keras-datasets) (2018.9)\n",
            "Requirement already satisfied: six>=1.5 in /usr/local/lib/python3.7/dist-packages (from python-dateutil>=2.7.3->pandas->extra-keras-datasets) (1.15.0)\n",
            "Requirement already satisfied: joblib>=0.11 in /usr/local/lib/python3.7/dist-packages (from scikit-learn->extra-keras-datasets) (1.1.0)\n",
            "Requirement already satisfied: threadpoolctl>=2.0.0 in /usr/local/lib/python3.7/dist-packages (from scikit-learn->extra-keras-datasets) (3.1.0)\n"
          ]
        },
        {
          "output_type": "stream",
          "name": "stderr",
          "text": [
            "INFO:root:Loading dataset = emnist\n",
            "WARNING:root:Please cite the following paper when using or referencing this Extra Keras Dataset:\n",
            "WARNING:root:Cohen, G., Afshar, S., Tapson, J., & van Schaik, A. (2017). EMNIST: an extension of MNIST to handwritten letters. Retrieved from http://arxiv.org/abs/1702.05373\n"
          ]
        }
      ],
      "source": [
        "# MNIST -- (x_train, labels_train), (x_test, labels_test) y_train y_test\n",
        "from tensorflow.keras.datasets import mnist\n",
        "(x_train, labels_train), (x_test, labels_test) = mnist.load_data()\n",
        "x_train = x_train.astype('float32')\n",
        "x_test = x_test.astype('float32')\n",
        "x_train /= 255\n",
        "x_test /= 255\n",
        "from tensorflow.keras.utils import to_categorical\n",
        "y_train = to_categorical(labels_train, 10)\n",
        "y_test = to_categorical(labels_test, 10)\n",
        "#  dense layer\n",
        "x_train = x_train.reshape(60000, 784)\n",
        "x_test = x_test.reshape(10000, 784)\n",
        "# convolution layer\n",
        "x_train = x_train.reshape(x_train.shape[0], 28, 28, 1)\n",
        "x_test = x_test.reshape(x_test.shape[0], 28, 28, 1)\n",
        "\n",
        "\n",
        "# EMNIST -- (input_train, target_train), (input_test, target_test) y_train_emnist y_test_emnist\n",
        "!pip install extra-keras-datasets\n",
        "from extra_keras_datasets import emnist\n",
        "(input_train, target_train), (input_test, target_test) = emnist.load_data(type='digits')\n",
        "# print(input_train.shape, target_train.shape)\n",
        "# print(input_test.shape, target_test.shape)\n",
        "input_train = input_train.astype('float32')\n",
        "input_test = input_test.astype('float32')\n",
        "input_train /= 255\n",
        "input_test /= 255\n",
        "from tensorflow.keras.utils import to_categorical\n",
        "y_train_emnist = to_categorical(target_train, 10)\n",
        "y_test_emnist = to_categorical(target_test, 10)\n",
        "#  dense layer\n",
        "input_train = input_train.reshape(240000, 784)\n",
        "input_test = input_test.reshape(40000, 784)\n",
        "# convolution layer\n",
        "input_train = input_train.reshape(input_train.shape[0], 28, 28, 1)\n",
        "input_test = input_test.reshape(input_test.shape[0], 28, 28, 1)\n"
      ]
    },
    {
      "cell_type": "code",
      "source": [
        ""
      ],
      "metadata": {
        "id": "esEyzAu4ZUkj"
      },
      "execution_count": null,
      "outputs": []
    },
    {
      "cell_type": "markdown",
      "source": [
        "# Defining neural network"
      ],
      "metadata": {
        "id": "7B-iiU4yk_By"
      }
    },
    {
      "cell_type": "code",
      "source": [
        "from tensorflow.keras.models import Sequential, Model\n",
        "from tensorflow.keras.layers import Input, Dense\n",
        "from tensorflow.keras.layers import Conv2D, MaxPool2D, Dense, Flatten, Dropout\n",
        "from keras.layers import Flatten, Lambda, BatchNormalization\n",
        "\n",
        "from keras.layers import Dense\n",
        "from keras.regularizers import l2\n",
        "\n",
        "# different layers https://keras.io/layers/  e.g.:\n",
        "\n",
        "net = Sequential()\n",
        "net.add(Conv2D(filters=32, kernel_size=(5,5), activation='relu', input_shape=(28,28,1)))\n",
        "net.add(MaxPool2D(pool_size=(2, 2)))\n",
        "net.add(Conv2D(32, (3, 3), activation='relu'))\n",
        "net.add(MaxPool2D(pool_size=(2, 2)))\n",
        "net.add(Flatten())\n",
        "net.add(Dense(256, activation='relu'))\n",
        "net.add(Dropout(rate=0.5))\n",
        "net.add(Dense(10, activation='softmax'))\n",
        "net.compile(loss='categorical_crossentropy', optimizer='adam')\n",
        "\n",
        "# net.summary()\n",
        "# Check total parameters"
      ],
      "metadata": {
        "id": "N47QZEXib4Hc"
      },
      "execution_count": null,
      "outputs": []
    },
    {
      "cell_type": "markdown",
      "source": [
        "#  Training neural network"
      ],
      "metadata": {
        "id": "Y6rf8UE_n50V"
      }
    },
    {
      "cell_type": "code",
      "source": [
        "# epochs = number of epochs to train the model (an epoch is an iteration over the entire x and y data provided)\n",
        "# Batch size = numbers of samples per gtadient update\n",
        "# 一个 epoch 表示一次全量训练样例的前向和后向传播。batch_size 就是在一次前向／后向传播过程用到的训练样例的数量\n",
        "batch_size = 256\n",
        "num_epoch = 15\n",
        "history = net.fit(x_train, y_train, validation_data=(x_test, y_test), batch_size=batch_size, epochs=num_epoch)\n"
      ],
      "metadata": {
        "colab": {
          "base_uri": "https://localhost:8080/"
        },
        "id": "-yx9GphGgk67",
        "outputId": "f8bdc95a-c684-475f-c2d6-82855d5db5fe"
      },
      "execution_count": null,
      "outputs": [
        {
          "output_type": "stream",
          "name": "stdout",
          "text": [
            "Epoch 1/15\n",
            "235/235 [==============================] - 40s 167ms/step - loss: 0.3558 - val_loss: 0.0745\n",
            "Epoch 2/15\n",
            "235/235 [==============================] - 40s 169ms/step - loss: 0.0922 - val_loss: 0.0469\n",
            "Epoch 3/15\n",
            "235/235 [==============================] - 40s 172ms/step - loss: 0.0650 - val_loss: 0.0330\n",
            "Epoch 4/15\n",
            "235/235 [==============================] - 40s 170ms/step - loss: 0.0519 - val_loss: 0.0306\n",
            "Epoch 5/15\n",
            "235/235 [==============================] - 40s 169ms/step - loss: 0.0451 - val_loss: 0.0277\n",
            "Epoch 6/15\n",
            "235/235 [==============================] - 40s 168ms/step - loss: 0.0380 - val_loss: 0.0258\n",
            "Epoch 7/15\n",
            "235/235 [==============================] - 39s 168ms/step - loss: 0.0339 - val_loss: 0.0261\n",
            "Epoch 8/15\n",
            "235/235 [==============================] - 39s 168ms/step - loss: 0.0302 - val_loss: 0.0240\n",
            "Epoch 9/15\n",
            "235/235 [==============================] - 40s 168ms/step - loss: 0.0272 - val_loss: 0.0215\n",
            "Epoch 10/15\n",
            "235/235 [==============================] - 39s 165ms/step - loss: 0.0228 - val_loss: 0.0244\n",
            "Epoch 11/15\n",
            "235/235 [==============================] - 39s 164ms/step - loss: 0.0237 - val_loss: 0.0225\n",
            "Epoch 12/15\n",
            "235/235 [==============================] - 39s 164ms/step - loss: 0.0214 - val_loss: 0.0200\n",
            "Epoch 13/15\n",
            "235/235 [==============================] - 39s 165ms/step - loss: 0.0190 - val_loss: 0.0196\n",
            "Epoch 14/15\n",
            "235/235 [==============================] - 39s 165ms/step - loss: 0.0172 - val_loss: 0.0230\n",
            "Epoch 15/15\n",
            "235/235 [==============================] - 41s 173ms/step - loss: 0.0171 - val_loss: 0.0206\n"
          ]
        }
      ]
    },
    {
      "cell_type": "code",
      "source": [
        "\n",
        "# The history variable returned by the fit function can be used to produce a plot showing the\n",
        "# change in the cost function during training:\n",
        "import matplotlib.pyplot as plt\n",
        "plt.figure()\n",
        "plt.plot(history.history['loss'], label='training loss')\n",
        "plt.plot(history.history['val_loss'], label='validation loss')\n",
        "plt.xlabel('epochs')\n",
        "plt.ylabel('loss')\n",
        "plt.legend()"
      ],
      "metadata": {
        "colab": {
          "base_uri": "https://localhost:8080/",
          "height": 297
        },
        "id": "jfR1YjLIk99v",
        "outputId": "b858425e-55ff-40a0-c194-6dbba2cae653"
      },
      "execution_count": null,
      "outputs": [
        {
          "output_type": "execute_result",
          "data": {
            "text/plain": [
              "<matplotlib.legend.Legend at 0x7f0c7f747990>"
            ]
          },
          "metadata": {},
          "execution_count": 68
        },
        {
          "output_type": "display_data",
          "data": {
            "image/png": "[encoded data removed]",
            "text/plain": [
              "<Figure size 432x288 with 1 Axes>"
            ]
          },
          "metadata": {
            "needs_background": "light"
          }
        }
      ]
    },
    {
      "cell_type": "code",
      "source": [
        "####################################################\n",
        "# net.save(\"network_for_mnist.h5\")\n",
        "\n",
        "# from tensorflow.keras.models import load_model\n",
        "# net=load_model(\"network_for_mnist.h5\")"
      ],
      "metadata": {
        "id": "mwzzEMnWoY7k"
      },
      "execution_count": null,
      "outputs": []
    },
    {
      "cell_type": "markdown",
      "source": [
        "# Data for testing"
      ],
      "metadata": {
        "id": "aPKFBeFDglwP"
      }
    },
    {
      "cell_type": "code",
      "source": [
        "import numpy as np\n",
        "import os\n",
        "from tensorflow.keras.models import load_model\n",
        "# #load .h5 file of arbitrary name for testing (last if more than one)\n",
        "# print(os.getcwd())\n",
        "# for file in os.listdir(os.getcwd()):\n",
        "#  if file.endswith(\".h5\"):\n",
        "#  print(file)\n",
        "#  net=load_model(file)\n",
        "# net.summary()\n",
        "\n",
        "#determine what type of network this is\n",
        "conf=net.layers[0].get_config()\n",
        "inshape=conf['batch_input_shape']\n",
        "if inshape[1]==28:\n",
        " netType='CNN'\n",
        "else:\n",
        " netType='MLP'\n",
        "\n",
        "#test with MNIST data\n",
        "outputs=net.predict(x_test)\n",
        "labels_predicted=np.argmax(outputs, axis=1)\n",
        "correct_classified=sum(labels_predicted==labels_test)\n",
        "print('Percentage correctly classified MNIST= ',100*correct_classified/labels_test.size)\n",
        "                       \n",
        "#test with EMNIST data\n",
        "outputs=net.predict(input_test)\n",
        "labels_predicted=np.argmax(outputs, axis=1)\n",
        "correct_classified=sum(labels_predicted==target_test)\n",
        "print('Percentage correctly classified EMNIST=',100*correct_classified/target_test.size)\n"
      ],
      "metadata": {
        "id": "VNp3AzfbgshQ",
        "colab": {
          "base_uri": "https://localhost:8080/"
        },
        "outputId": "f2682868-81ec-4b54-d175-61c72170e650"
      },
      "execution_count": null,
      "outputs": [
        {
          "output_type": "stream",
          "name": "stdout",
          "text": [
            "Percentage correctly classified MNIST=  99.33\n",
            "Percentage correctly classified EMNIST= 93.6625\n"
          ]
        }
      ]
    },
    {
      "cell_type": "code",
      "source": [
        "import pandas as pd\n",
        "pd.crosstab(target_test,labels_predicted,rownames=['label'],colnames=['predict'])"
      ],
      "metadata": {
        "colab": {
          "base_uri": "https://localhost:8080/",
          "height": 394
        },
        "id": "5fsRZRQ7PYRq",
        "outputId": "a53813b4-537f-4d68-d67f-99453d5b85b4"
      },
      "execution_count": null,
      "outputs": [
        {
          "output_type": "execute_result",
          "data": {
            "text/html": [
              "\n",
              "  <div id=\"df-95241e47-2888-4683-9a20-841612a1f691\">\n",
              "    <div class=\"colab-df-container\">\n",
              "      <div>\n",
              "<style scoped>\n",
              "    .dataframe tbody tr th:only-of-type {\n",
              "        vertical-align: middle;\n",
              "    }\n",
              "\n",
              "    .dataframe tbody tr th {\n",
              "        vertical-align: top;\n",
              "    }\n",
              "\n",
              "    .dataframe thead th {\n",
              "        text-align: right;\n",
              "    }\n",
              "</style>\n",
              "<table border=\"1\" class=\"dataframe\">\n",
              "  <thead>\n",
              "    <tr style=\"text-align: right;\">\n",
              "      <th>predict</th>\n",
              "      <th>0</th>\n",
              "      <th>1</th>\n",
              "      <th>2</th>\n",
              "      <th>3</th>\n",
              "      <th>4</th>\n",
              "      <th>5</th>\n",
              "      <th>6</th>\n",
              "      <th>7</th>\n",
              "      <th>8</th>\n",
              "      <th>9</th>\n",
              "    </tr>\n",
              "    <tr>\n",
              "      <th>label</th>\n",
              "      <th></th>\n",
              "      <th></th>\n",
              "      <th></th>\n",
              "      <th></th>\n",
              "      <th></th>\n",
              "      <th></th>\n",
              "      <th></th>\n",
              "      <th></th>\n",
              "      <th></th>\n",
              "      <th></th>\n",
              "    </tr>\n",
              "  </thead>\n",
              "  <tbody>\n",
              "    <tr>\n",
              "      <th>0</th>\n",
              "      <td>3982</td>\n",
              "      <td>2</td>\n",
              "      <td>4</td>\n",
              "      <td>0</td>\n",
              "      <td>2</td>\n",
              "      <td>0</td>\n",
              "      <td>3</td>\n",
              "      <td>0</td>\n",
              "      <td>3</td>\n",
              "      <td>4</td>\n",
              "    </tr>\n",
              "    <tr>\n",
              "      <th>1</th>\n",
              "      <td>3</td>\n",
              "      <td>3944</td>\n",
              "      <td>2</td>\n",
              "      <td>0</td>\n",
              "      <td>19</td>\n",
              "      <td>4</td>\n",
              "      <td>24</td>\n",
              "      <td>2</td>\n",
              "      <td>2</td>\n",
              "      <td>0</td>\n",
              "    </tr>\n",
              "    <tr>\n",
              "      <th>2</th>\n",
              "      <td>4</td>\n",
              "      <td>12</td>\n",
              "      <td>3953</td>\n",
              "      <td>10</td>\n",
              "      <td>5</td>\n",
              "      <td>0</td>\n",
              "      <td>7</td>\n",
              "      <td>4</td>\n",
              "      <td>3</td>\n",
              "      <td>2</td>\n",
              "    </tr>\n",
              "    <tr>\n",
              "      <th>3</th>\n",
              "      <td>1</td>\n",
              "      <td>1</td>\n",
              "      <td>11</td>\n",
              "      <td>3954</td>\n",
              "      <td>0</td>\n",
              "      <td>27</td>\n",
              "      <td>0</td>\n",
              "      <td>4</td>\n",
              "      <td>2</td>\n",
              "      <td>0</td>\n",
              "    </tr>\n",
              "    <tr>\n",
              "      <th>4</th>\n",
              "      <td>6</td>\n",
              "      <td>12</td>\n",
              "      <td>0</td>\n",
              "      <td>0</td>\n",
              "      <td>3893</td>\n",
              "      <td>1</td>\n",
              "      <td>13</td>\n",
              "      <td>40</td>\n",
              "      <td>31</td>\n",
              "      <td>4</td>\n",
              "    </tr>\n",
              "    <tr>\n",
              "      <th>5</th>\n",
              "      <td>4</td>\n",
              "      <td>0</td>\n",
              "      <td>1</td>\n",
              "      <td>6</td>\n",
              "      <td>0</td>\n",
              "      <td>3960</td>\n",
              "      <td>4</td>\n",
              "      <td>17</td>\n",
              "      <td>5</td>\n",
              "      <td>3</td>\n",
              "    </tr>\n",
              "    <tr>\n",
              "      <th>6</th>\n",
              "      <td>21</td>\n",
              "      <td>26</td>\n",
              "      <td>44</td>\n",
              "      <td>0</td>\n",
              "      <td>0</td>\n",
              "      <td>8</td>\n",
              "      <td>3898</td>\n",
              "      <td>0</td>\n",
              "      <td>3</td>\n",
              "      <td>0</td>\n",
              "    </tr>\n",
              "    <tr>\n",
              "      <th>7</th>\n",
              "      <td>1</td>\n",
              "      <td>111</td>\n",
              "      <td>223</td>\n",
              "      <td>1</td>\n",
              "      <td>15</td>\n",
              "      <td>0</td>\n",
              "      <td>0</td>\n",
              "      <td>3646</td>\n",
              "      <td>2</td>\n",
              "      <td>1</td>\n",
              "    </tr>\n",
              "    <tr>\n",
              "      <th>8</th>\n",
              "      <td>11</td>\n",
              "      <td>14</td>\n",
              "      <td>7</td>\n",
              "      <td>7</td>\n",
              "      <td>10</td>\n",
              "      <td>56</td>\n",
              "      <td>9</td>\n",
              "      <td>6</td>\n",
              "      <td>3875</td>\n",
              "      <td>5</td>\n",
              "    </tr>\n",
              "    <tr>\n",
              "      <th>9</th>\n",
              "      <td>0</td>\n",
              "      <td>34</td>\n",
              "      <td>3</td>\n",
              "      <td>8</td>\n",
              "      <td>792</td>\n",
              "      <td>13</td>\n",
              "      <td>2</td>\n",
              "      <td>512</td>\n",
              "      <td>276</td>\n",
              "      <td>2360</td>\n",
              "    </tr>\n",
              "  </tbody>\n",
              "</table>\n",
              "</div>\n",
              "      <button class=\"colab-df-convert\" onclick=\"convertToInteractive('df-95241e47-2888-4683-9a20-841612a1f691')\"\n",
              "              title=\"Convert this dataframe to an interactive table.\"\n",
              "              style=\"display:none;\">\n",
              "        \n",
              "  <svg xmlns=\"http://www.w3.org/2000/svg\" height=\"24px\"viewBox=\"0 0 24 24\"\n",
              "       width=\"24px\">\n",
              "    <path d=\"M0 0h24v24H0V0z\" fill=\"none\"/>\n",
              "    <path d=\"M18.56 5.44l.94 2.06.94-2.06 2.06-.94-2.06-.94-.94-2.06-.94 2.06-2.06.94zm-11 1L8.5 8.5l.94-2.06 2.06-.94-2.06-.94L8.5 2.5l-.94 2.06-2.06.94zm10 10l.94 2.06.94-2.06 2.06-.94-2.06-.94-.94-2.06-.94 2.06-2.06.94z\"/><path d=\"M17.41 7.96l-1.37-1.37c-.4-.4-.92-.59-1.43-.59-.52 0-1.04.2-1.43.59L10.3 9.45l-7.72 7.72c-.78.78-.78 2.05 0 2.83L4 21.41c.39.39.9.59 1.41.59.51 0 1.02-.2 1.41-.59l7.78-7.78 2.81-2.81c.8-.78.8-2.07 0-2.86zM5.41 20L4 18.59l7.72-7.72 1.47 1.35L5.41 20z\"/>\n",
              "  </svg>\n",
              "      </button>\n",
              "      \n",
              "  <style>\n",
              "    .colab-df-container {\n",
              "      display:flex;\n",
              "      flex-wrap:wrap;\n",
              "      gap: 12px;\n",
              "    }\n",
              "\n",
              "    .colab-df-convert {\n",
              "      background-color: #E8F0FE;\n",
              "      border: none;\n",
              "      border-radius: 50%;\n",
              "      cursor: pointer;\n",
              "      display: none;\n",
              "      fill: #1967D2;\n",
              "      height: 32px;\n",
              "      padding: 0 0 0 0;\n",
              "      width: 32px;\n",
              "    }\n",
              "\n",
              "    .colab-df-convert:hover {\n",
              "      background-color: #E2EBFA;\n",
              "      box-shadow: 0px 1px 2px rgba(60, 64, 67, 0.3), 0px 1px 3px 1px rgba(60, 64, 67, 0.15);\n",
              "      fill: #174EA6;\n",
              "    }\n",
              "\n",
              "    [theme=dark] .colab-df-convert {\n",
              "      background-color: #3B4455;\n",
              "      fill: #D2E3FC;\n",
              "    }\n",
              "\n",
              "    [theme=dark] .colab-df-convert:hover {\n",
              "      background-color: #434B5C;\n",
              "      box-shadow: 0px 1px 3px 1px rgba(0, 0, 0, 0.15);\n",
              "      filter: drop-shadow(0px 1px 2px rgba(0, 0, 0, 0.3));\n",
              "      fill: #FFFFFF;\n",
              "    }\n",
              "  </style>\n",
              "\n",
              "      <script>\n",
              "        const buttonEl =\n",
              "          document.querySelector('#df-95241e47-2888-4683-9a20-841612a1f691 button.colab-df-convert');\n",
              "        buttonEl.style.display =\n",
              "          google.colab.kernel.accessAllowed ? 'block' : 'none';\n",
              "\n",
              "        async function convertToInteractive(key) {\n",
              "          const element = document.querySelector('#df-95241e47-2888-4683-9a20-841612a1f691');\n",
              "          const dataTable =\n",
              "            await google.colab.kernel.invokeFunction('convertToInteractive',\n",
              "                                                     [key], {});\n",
              "          if (!dataTable) return;\n",
              "\n",
              "          const docLinkHtml = 'Like what you see? Visit the ' +\n",
              "            '<a target=\"_blank\" href=https://colab.research.google.com/notebooks/data_table.ipynb>data table notebook</a>'\n",
              "            + ' to learn more about interactive tables.';\n",
              "          element.innerHTML = '';\n",
              "          dataTable['output_type'] = 'display_data';\n",
              "          await google.colab.output.renderOutput(dataTable, element);\n",
              "          const docLink = document.createElement('div');\n",
              "          docLink.innerHTML = docLinkHtml;\n",
              "          element.appendChild(docLink);\n",
              "        }\n",
              "      </script>\n",
              "    </div>\n",
              "  </div>\n",
              "  "
            ],
            "text/plain": [
              "predict     0     1     2     3     4     5     6     7     8     9\n",
              "label                                                              \n",
              "0        3982     2     4     0     2     0     3     0     3     4\n",
              "1           3  3944     2     0    19     4    24     2     2     0\n",
              "2           4    12  3953    10     5     0     7     4     3     2\n",
              "3           1     1    11  3954     0    27     0     4     2     0\n",
              "4           6    12     0     0  3893     1    13    40    31     4\n",
              "5           4     0     1     6     0  3960     4    17     5     3\n",
              "6          21    26    44     0     0     8  3898     0     3     0\n",
              "7           1   111   223     1    15     0     0  3646     2     1\n",
              "8          11    14     7     7    10    56     9     6  3875     5\n",
              "9           0    34     3     8   792    13     2   512   276  2360"
            ]
          },
          "metadata": {},
          "execution_count": 72
        }
      ]
    },
    {
      "cell_type": "code",
      "source": [
        "# from google.colab import drive\n",
        "# drive.mount('/content/gdrive')\n",
        "# !pip install pyyaml h5py  # Required to save models in HDF5 format\n",
        "\n",
        "net.save(\"network_for_mnist_data15.h5\")\n"
      ],
      "metadata": {
        "id": "PKZZUZ_bHXVw"
      },
      "execution_count": null,
      "outputs": []
    },
    {
      "cell_type": "code",
      "source": [
        ""
      ],
      "metadata": {
        "id": "Qhf3zPHbREgy"
      },
      "execution_count": null,
      "outputs": []
    }
  ]
}