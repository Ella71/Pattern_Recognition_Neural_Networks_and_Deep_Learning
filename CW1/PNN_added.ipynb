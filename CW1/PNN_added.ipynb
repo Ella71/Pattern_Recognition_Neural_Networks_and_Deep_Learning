{
  "cells": [
    {
      "cell_type": "markdown",
      "metadata": {
        "id": "CsTVwEE1SbFw"
      },
      "source": [
        "# Loading Data"
      ]
    },
    {
      "cell_type": "code",
      "execution_count": null,
      "metadata": {
        "colab": {
          "base_uri": "https://localhost:8080/"
        },
        "id": "1BBTFoOSSbF1",
        "outputId": "a9dc5cc2-2996-4aeb-bbf3-794282d07d06"
      },
      "outputs": [
        {
          "output_type": "stream",
          "name": "stdout",
          "text": [
            "Downloading data from https://storage.googleapis.com/tensorflow/tf-keras-datasets/mnist.npz\n",
            "11493376/11490434 [==============================] - 0s 0us/step\n",
            "11501568/11490434 [==============================] - 0s 0us/step\n",
            "(60000, 28, 28) (10000, 28, 28)\n",
            "(60000,) (10000,)\n"
          ]
        }
      ],
      "source": [
        "from tensorflow.keras.datasets import mnist\n",
        "(x_train, labels_train), (x_test, labels_test) = mnist.load_data()\n",
        "print(x_train.shape, x_test.shape)\n",
        "print(labels_train.shape, labels_test.shape)\n",
        "# x_train is the handstroke image\n",
        "# labels_train are according labels =>array([5, 0, 4, ..., 5, 6, 8], dtype=uint8)"
      ]
    },
    {
      "cell_type": "code",
      "execution_count": null,
      "metadata": {
        "scrolled": true,
        "id": "Ma-MTYdxSbF3"
      },
      "outputs": [],
      "source": [
        "# # x_train[1, :].shape # 28*28*1\n",
        "# import matplotlib.pyplot as plt\n",
        "# import matplotlib.image as img\n",
        "# myimage = img.imread(\"xxx.jpg\")\n",
        "\n",
        "# # plt.imshow(x_train[1,:].reshape(28,28), cmap=plt.get_cmap('gray'))\n",
        "# # plt.imshow(myimage[:, :, 1], cmap=plt.get_cmap('gray'))\n",
        "# # x_test.shape\n",
        "\n",
        "# mytest = np.zeros((1, 28, 28, 1))\n",
        "# mytest[0, :, :, 0] = myimage[:, :, 1]\n",
        "# myoutput=net.predict(mytest)\n",
        "# myoutput\n",
        "# mylabels_predicted=np.argmax(myoutput, axis=1)\n",
        "# mylabels_predicted[0]"
      ]
    },
    {
      "cell_type": "code",
      "execution_count": null,
      "metadata": {
        "id": "3rwEuU6LSbF4"
      },
      "outputs": [],
      "source": [
        "# The MNIST images are stored in the form of integers with values in the range [0,255]. \n",
        "# To convert to floating-point numbers in the range [0,1]:\n",
        "x_train = x_train.astype('float32')\n",
        "x_test = x_test.astype('float32')\n",
        "x_train /= 255\n",
        "x_test /= 255"
      ]
    },
    {
      "cell_type": "code",
      "execution_count": null,
      "metadata": {
        "id": "jAO4JHLiSbF4"
      },
      "outputs": [],
      "source": [
        "# To define the output that the network should produce (integers 0 to 9) in response to each sample (a one hot encoding):\n",
        "from tensorflow.keras.utils import to_categorical\n",
        "y_train = to_categorical(labels_train, 10)\n",
        "y_test = to_categorical(labels_test, 10)\n",
        "# print(y_train.shape, y_test.shape)\n",
        "# (60000, 10) (10000, 10)"
      ]
    },
    {
      "cell_type": "code",
      "source": [
        "print(x_train.shape, x_test.shape)\n",
        "print(y_train.shape, y_test.shape)\n",
        "print(labels_train.shape, labels_test.shape)"
      ],
      "metadata": {
        "colab": {
          "base_uri": "https://localhost:8080/"
        },
        "id": "oEgBsaC9RrFC",
        "outputId": "96a873de-49a4-435b-82e2-fa57e9f56462"
      },
      "execution_count": null,
      "outputs": [
        {
          "output_type": "stream",
          "name": "stdout",
          "text": [
            "(60000, 28, 28, 1) (10000, 28, 28, 1)\n",
            "(60000, 10) (10000, 10)\n",
            "(60000,) (10000,)\n"
          ]
        }
      ]
    },
    {
      "cell_type": "code",
      "source": [
        ""
      ],
      "metadata": {
        "id": "a69-flRdvFOP"
      },
      "execution_count": null,
      "outputs": []
    },
    {
      "cell_type": "code",
      "source": [
        ""
      ],
      "metadata": {
        "id": "Owzj2OJdvTek"
      },
      "execution_count": null,
      "outputs": []
    },
    {
      "cell_type": "code",
      "execution_count": null,
      "metadata": {
        "id": "7iLWGolaSbF6"
      },
      "outputs": [],
      "source": [
        "# DENSE LAYER --> If the data is to be used as input to a dense layer, then it should be reshaped into \n",
        "# a matrix where each row is a sample:\n",
        "x_train = x_train.reshape(60000, 784)\n",
        "x_test = x_test.reshape(10000, 784)"
      ]
    },
    {
      "cell_type": "code",
      "execution_count": null,
      "metadata": {
        "id": "KhNMz8wkSbF6"
      },
      "outputs": [],
      "source": [
        "# CONVOLUTIONAL LAYER --> If the data is to be used as input to a convolutional layer, then it should be reshaped into \n",
        "# a four-dimensional matrix where the first dimension corresponds to the number of exemplars, \n",
        "# the second and third dimensions correspond to the width and height of each image, and the fourth\n",
        "# dimension corresponds to the number of colour channels in each image:\n",
        "x_train = x_train.reshape(x_train.shape[0], 28, 28, 1)\n",
        "x_test = x_test.reshape(x_test.shape[0], 28, 28, 1)"
      ]
    },
    {
      "cell_type": "code",
      "execution_count": null,
      "metadata": {
        "colab": {
          "base_uri": "https://localhost:8080/"
        },
        "id": "25_8R4PcSbF7",
        "outputId": "0ca44a0e-da53-4226-a14b-ad5ebd4a484f"
      },
      "outputs": [
        {
          "output_type": "stream",
          "name": "stdout",
          "text": [
            "Drive already mounted at /content/drive; to attempt to forcibly remount, call drive.mount(\"/content/drive\", force_remount=True).\n"
          ]
        },
        {
          "output_type": "execute_result",
          "data": {
            "text/plain": [
              "(240000, 10)"
            ]
          },
          "metadata": {},
          "execution_count": 10
        }
      ],
      "source": [
        "from google.colab import drive\n",
        "drive.mount('/content/drive')\n",
        "from scipy import io as spio\n",
        "emnist = spio.loadmat(\"/content/drive/My Drive/Colab Notebooks/emnist-digits.mat\")\n",
        "# cd /content/drive/My Drive/Colab Notebooks/\n",
        "\n",
        "import numpy as np\n",
        "# load training & testing dataset\n",
        "emnist_x_train = emnist[\"dataset\"][0][0][0][0][0][0]\n",
        "emnist_x_train = emnist_x_train.astype(np.float32)\n",
        "emnist_x_test = emnist[\"dataset\"][0][0][1][0][0][0]\n",
        "emnist_x_test = emnist_x_test.astype(np.float32)\n",
        "\n",
        "# load training & testing labels\n",
        "emnist_y_train = emnist[\"dataset\"][0][0][0][0][0][1]\n",
        "emnist_y_test = emnist[\"dataset\"][0][0][1][0][0][1]\n",
        "\n",
        "# store labels for visualization\n",
        "emnist_train_labels = emnist_y_train\n",
        "emnist_test_labels = emnist_y_test\n",
        "\n",
        "# print(emnist_x_train.shape, emnist_x_test.shape)\n",
        "# # (240000, 784) (40000, 784)\n",
        "# print(emnist_y_train.shape, emnist_y_test.shape)\n",
        "# # (240000, 1) (40000, 1)\n",
        "# print(emnist_train_labels.shape, emnist_test_labels.shape)\n",
        "# # (240000, 1) (40000, 1)\n",
        "# normalize\n",
        "emnist_x_train /= 255\n",
        "emnist_x_test /= 255\n",
        "\n",
        "import keras\n",
        "from keras.utils import np_utils\n",
        "# reshape using matlab order\n",
        "# emnist_x_train = emnist_x_train.reshape(emnist_x_train.shape[0], 28, 28, 1)\n",
        "# emnist_x_test = emnist_x_test.reshape(emnist_x_test.shape[0], 28, 28, 1)\n",
        "\n",
        "x_train = x_train.reshape(x_train.shape[0], 1, 28, 28, order=\"A\")\n",
        "x_test = x_test.reshape(x_test.shape[0], 1, 28, 28, order=\"A\")\n",
        "\n",
        "\n",
        "emnist_x_train.shape\n",
        "# (240000, 28, 28, 1)\n",
        "emnist_y_train.shape\n",
        "# (240000, 1)\n",
        "\n",
        "# labels should be one hot encoded\n",
        "emnist_y_train = keras.utils.np_utils.to_categorical(emnist_y_train, 10)\n",
        "emnist_y_test = keras.utils.np_utils.to_categorical(emnist_y_test, 10)\n",
        "\n",
        "emnist_y_train.shape\n",
        "# (240000, 10)"
      ]
    },
    {
      "cell_type": "code",
      "execution_count": null,
      "metadata": {
        "id": "QGu9F-xfSbF9"
      },
      "outputs": [],
      "source": [
        ""
      ]
    },
    {
      "cell_type": "markdown",
      "metadata": {
        "id": "uE8taPkZSbF_"
      },
      "source": [
        "# Viewing data"
      ]
    },
    {
      "cell_type": "code",
      "execution_count": null,
      "metadata": {
        "id": "12RnY0ZpSbF_",
        "outputId": "c76d18cc-f582-4b2c-d606-9a7c9e1fba6d",
        "colab": {
          "base_uri": "https://localhost:8080/",
          "height": 246
        }
      },
      "outputs": [
        {
          "output_type": "error",
          "ename": "AttributeError",
          "evalue": "ignored",
          "traceback": [
            "\u001b[0;31m---------------------------------------------------------------------------\u001b[0m",
            "\u001b[0;31mAttributeError\u001b[0m                            Traceback (most recent call last)",
            "\u001b[0;32m<ipython-input-1-3aa23c1dea94>\u001b[0m in \u001b[0;36m<module>\u001b[0;34m()\u001b[0m\n\u001b[1;32m      1\u001b[0m \u001b[0;32mimport\u001b[0m \u001b[0mmatplotlib\u001b[0m \u001b[0;32mas\u001b[0m \u001b[0mplt\u001b[0m\u001b[0;34m\u001b[0m\u001b[0;34m\u001b[0m\u001b[0m\n\u001b[0;32m----> 2\u001b[0;31m fig, ax = plt.subplots(\n\u001b[0m\u001b[1;32m      3\u001b[0m     \u001b[0mnrows\u001b[0m\u001b[0;34m=\u001b[0m\u001b[0;36m5\u001b[0m\u001b[0;34m,\u001b[0m\u001b[0;34m\u001b[0m\u001b[0;34m\u001b[0m\u001b[0m\n\u001b[1;32m      4\u001b[0m     \u001b[0mncols\u001b[0m\u001b[0;34m=\u001b[0m\u001b[0;36m5\u001b[0m\u001b[0;34m,\u001b[0m\u001b[0;34m\u001b[0m\u001b[0;34m\u001b[0m\u001b[0m\n\u001b[1;32m      5\u001b[0m     \u001b[0msharex\u001b[0m\u001b[0;34m=\u001b[0m\u001b[0;34m'all'\u001b[0m\u001b[0;34m,\u001b[0m\u001b[0;34m\u001b[0m\u001b[0;34m\u001b[0m\u001b[0m\n",
            "\u001b[0;31mAttributeError\u001b[0m: module 'matplotlib' has no attribute 'subplots'"
          ]
        }
      ],
      "source": [
        "import matplotlib as plt\n",
        "fig, ax = plt.subplots(\n",
        "    nrows=5,\n",
        "    ncols=5,\n",
        "    sharex='all',\n",
        "    sharey='all', )\n",
        "ax = ax.flatten()\n",
        "\n",
        "# --- Choose one of the two start ---\n",
        "for i in range(25):\n",
        "    img = x_train[i].reshape(28, 28)\n",
        "    ax[i].imshow(img, cmap='Greys', interpolation='nearest')\n",
        "\n",
        "    \n",
        "# indexs = np.where(labels_train == 7)\n",
        "# for i in range(25):\n",
        "#     img = x_train[indexs[0][i]].reshape(28, 28)\n",
        "#     ax[i].imshow(img, cmap='Greys', interpolation='nearest')\n",
        "# --- Choose one of the two end --- \n",
        "    \n",
        "ax[0].set_xticks([])\n",
        "ax[0].set_yticks([])\n",
        "plt.tight_layout()\n",
        "plt.show()"
      ]
    },
    {
      "cell_type": "code",
      "execution_count": null,
      "metadata": {
        "id": "ZLer93DJSbGA",
        "outputId": "e78667e2-516b-4d54-f078-89ba2ca5a43f"
      },
      "outputs": [
        {
          "data": {
            "image/png": "[encoded data removed]",
            "text/plain": [
              "<Figure size 432x288 with 1 Axes>"
            ]
          },
          "metadata": {
            "needs_background": "light"
          },
          "output_type": "display_data"
        }
      ],
      "source": [
        "# 画一个直方图,看看数据集中各个数字的数据量\n",
        "X = []\n",
        "Y = []\n",
        "\n",
        "for i in range(10):\n",
        "    x = i\n",
        "    y = np.sum(labels_train == i)\n",
        "    X.append(x)\n",
        "    Y.append(y)\n",
        "    plt.text(x, y, '%s' % y, ha='center', va= 'bottom')\n",
        "\n",
        "plt.bar(X, Y, facecolor='#9999ff', edgecolor='white')\n",
        "plt.xticks(X)\n",
        "plt.show()"
      ]
    },
    {
      "cell_type": "markdown",
      "metadata": {
        "id": "Z-UAkS_ASbGA"
      },
      "source": [
        "# Defining a Neural Network\n",
        "define its architecture (the number and types of layers, and their interconnectivity"
      ]
    },
    {
      "cell_type": "code",
      "execution_count": null,
      "metadata": {
        "id": "eZOLG8woSbGB"
      },
      "outputs": [],
      "source": [
        "# Method 1 -- 3 layer MLP network called “net”\n",
        "# you can define a sequence of layers, it is assumed that the output of one layer provides the input to the next. \n",
        "\n",
        "from tensorflow.keras.models import Sequential\n",
        "from tensorflow.keras.layers import Dense\n",
        "\n",
        "net = Sequential()\n",
        "net.add(Dense(800, activation='relu', input_shape=(784,)))\n",
        "net.add(Dense(400, activation='relu'))\n",
        "net.add(Dense(10, activation='softmax'))\n",
        "# activation functions -- https://keras.io/activations/\n",
        "# different types of layers that can be used -- https://keras.io/layers/"
      ]
    },
    {
      "cell_type": "code",
      "execution_count": null,
      "metadata": {
        "id": "INN0h8UdSbGB"
      },
      "outputs": [],
      "source": [
        "# to build a simple CNN using convolutional, maxpooling, as well as dense layers (and with dropout for one layer):\n",
        "from tensorflow.keras.models import Sequential\n",
        "from tensorflow.keras.layers import Conv2D, MaxPool2D, Dense, Flatten,Dropout\n",
        "net = Sequential()\n",
        "net.add(Conv2D(filters=32, kernel_size=(5,5), activation='relu',\n",
        "input_shape=(28,28,1)))\n",
        "net.add(MaxPool2D(pool_size=(2, 2)))\n",
        "net.add(Conv2D(32, (3, 3), activation='relu'))\n",
        "net.add(MaxPool2D(pool_size=(2, 2)))\n",
        "net.add(Flatten())\n",
        "net.add(Dense(256, activation='relu'))\n",
        "net.add(Dropout(rate=0.5))\n",
        "net.add(Dense(10, activation='softmax'))"
      ]
    },
    {
      "cell_type": "code",
      "execution_count": null,
      "metadata": {
        "id": "jKJ8mGAZSbGB"
      },
      "outputs": [],
      "source": [
        "# Method 2 -- 3 layer MLP network (equivalent to that built using method 1)\n",
        "# you can name the output of each layer, and to use these name to define where each layer receives input from. \n",
        "from tensorflow.keras.models import Model\n",
        "from tensorflow.keras.layers import Input, Dense\n",
        "input_img = Input(shape=(784,)) # define a placeholder for the input data\n",
        "x = Dense(800, activation='relu')(input_img)\n",
        "y = Dense(400, activation='relu')(x)\n",
        "z = Dense(10, activation='softmax')(y)\n",
        "net = Model(input_img, z)"
      ]
    },
    {
      "cell_type": "code",
      "execution_count": null,
      "metadata": {
        "id": "ZGa6s73YSbGC"
      },
      "outputs": [],
      "source": [
        "# This method allows the construction of networks in which one layer supplies input to multiple other layers, \n",
        "# and/or one layer receives input from multiple other layers, e.g.:\n",
        "from tensorflow.keras.models import Model\n",
        "from tensorflow.keras.layers import Input, Dense\n",
        "from tensorflow.keras.layers import concatenate\n",
        "input_img = Input(shape=(784,)) # define a placeholder for the input data\n",
        "x = Dense(800, activation='relu')(input_img)\n",
        "y1= Dense(100, activation='tanh')(x)\n",
        "y2= Dense(200, activation='relu')(x)\n",
        "y = concatenate([y1, y2])\n",
        "z = Dense(10, activation='softmax')(y)\n",
        "net = Model(input_img, z)"
      ]
    },
    {
      "cell_type": "code",
      "execution_count": null,
      "metadata": {
        "id": "6_ey0QszSbGC"
      },
      "outputs": [],
      "source": [
        "# Note, the variable name used for one layer can be reused (overwritten) by another layer. For\n",
        "# example, a simple CNN equivalent to that built with method 1, can be constructed like so:\n",
        "from tensorflow.keras.models import Model\n",
        "from tensorflow.keras.layers import Conv2D, MaxPool2D, Dense, Flatten,Dropout, Input\n",
        "inputs = Input(shape=x_train.shape[1:])\n",
        "x = Conv2D(filters=32, kernel_size=(5,5), activation='relu')(inputs)\n",
        "x = MaxPool2D(pool_size=(2, 2))(x)\n",
        "x = Conv2D(filters=32, kernel_size=(3,3), activation='relu')(x)\n",
        "x = MaxPool2D(pool_size=(2, 2))(x)\n",
        "x = Flatten()(x)\n",
        "x = Dense(256, activation='relu')(x)\n",
        "x = Dropout(rate=0.5)(x)\n",
        "outputs = Dense(10, activation='softmax')(x)\n",
        "net = Model(inputs=inputs, outputs=outputs)"
      ]
    },
    {
      "cell_type": "code",
      "execution_count": null,
      "metadata": {
        "id": "3xzLrWOASbGC",
        "outputId": "87e1efd7-91b2-48a4-d585-967f18fdf1c0"
      },
      "outputs": [
        {
          "name": "stdout",
          "output_type": "stream",
          "text": [
            "Model: \"model_2\"\n",
            "_________________________________________________________________\n",
            " Layer (type)                Output Shape              Param #   \n",
            "=================================================================\n",
            " input_3 (InputLayer)        [(None, 28, 28, 1)]       0         \n",
            "                                                                 \n",
            " conv2d_2 (Conv2D)           (None, 24, 24, 32)        832       \n",
            "                                                                 \n",
            " max_pooling2d_2 (MaxPooling  (None, 12, 12, 32)       0         \n",
            " 2D)                                                             \n",
            "                                                                 \n",
            " conv2d_3 (Conv2D)           (None, 10, 10, 32)        9248      \n",
            "                                                                 \n",
            " max_pooling2d_3 (MaxPooling  (None, 5, 5, 32)         0         \n",
            " 2D)                                                             \n",
            "                                                                 \n",
            " flatten_1 (Flatten)         (None, 800)               0         \n",
            "                                                                 \n",
            " dense_12 (Dense)            (None, 256)               205056    \n",
            "                                                                 \n",
            " dropout_1 (Dropout)         (None, 256)               0         \n",
            "                                                                 \n",
            " dense_13 (Dense)            (None, 10)                2570      \n",
            "                                                                 \n",
            "=================================================================\n",
            "Total params: 217,706\n",
            "Trainable params: 217,706\n",
            "Non-trainable params: 0\n",
            "_________________________________________________________________\n"
          ]
        }
      ],
      "source": [
        "# Whichever method is used to define a network, a textual description of its structure can be obtained using:\n",
        "net.summary()"
      ]
    },
    {
      "cell_type": "code",
      "execution_count": null,
      "metadata": {
        "id": "MzZWD-2ZSbGD",
        "outputId": "1d9d5008-8c5e-48ef-fc2e-0301eed4368f"
      },
      "outputs": [
        {
          "data": {
            "image/png": "[encoded data removed]",
            "text/plain": [
              "<IPython.core.display.Image object>"
            ]
          },
          "execution_count": 14,
          "metadata": {},
          "output_type": "execute_result"
        }
      ],
      "source": [
        "# or an image can be obtained using:\n",
        "from tensorflow.keras.utils import plot_model\n",
        "plot_model(net, to_file='network_structure.png', show_shapes=True)"
      ]
    },
    {
      "cell_type": "markdown",
      "source": [
        "# define model\n"
      ],
      "metadata": {
        "id": "mh9oJMdEvzLq"
      }
    },
    {
      "cell_type": "code",
      "source": [
        "# calculate mean and standard deviation\n",
        "mean_px = x_train.mean().astype(np.float32)\n",
        "std_px = x_train.std().astype(np.float32)\n",
        "\n",
        "# function to normalize input data\n",
        "def norm_input(x): return (x-mean_px)/std_px\n",
        "\n"
      ],
      "metadata": {
        "id": "bytxQ-kFv4vn"
      },
      "execution_count": null,
      "outputs": []
    },
    {
      "cell_type": "code",
      "source": [
        "from tensorflow.keras.models import Sequential\n",
        "from tensorflow.keras.layers import Conv2D, MaxPool2D, Dense, Flatten,Dropout\n",
        "# Batchnorm + dropout + data augmentation\n",
        "def create_model():\n",
        "  net = Sequential()\n",
        "  net.add(Conv2D(filters=32, kernel_size=(5,5), activation='relu',\n",
        "  input_shape=(28,28,1)))\n",
        "  net.add(MaxPool2D(pool_size=(2, 2)))\n",
        "  net.add(Conv2D(32, (3, 3), activation='relu'))\n",
        "  net.add(MaxPool2D(pool_size=(2, 2)))\n",
        "  net.add(Flatten())\n",
        "  net.add(Dense(256, activation='relu'))\n",
        "  net.add(Dropout(rate=0.5))\n",
        "  net.add(Dense(10, activation='softmax'))\n",
        "  # print(net.summary())\n",
        "  # model.compile(Adam(), loss='categorical_crossentropy', metrics=['accuracy'])\n",
        "  return net"
      ],
      "metadata": {
        "id": "iHK0-AxSxXoh"
      },
      "execution_count": null,
      "outputs": []
    },
    {
      "cell_type": "code",
      "source": [
        "models = []\n",
        "weights_epoch = 0\n",
        "\n",
        "for i in range(10):\n",
        "  m = create_model()\n",
        "  models.append(m)"
      ],
      "metadata": {
        "id": "S9yEQQuUwOvu"
      },
      "execution_count": null,
      "outputs": []
    },
    {
      "cell_type": "code",
      "source": [
        "import tensorflow as tf\n",
        "from keras.preprocessing.image import ImageDataGenerator\n",
        "batch_size = 512\n",
        "gen = ImageDataGenerator(rotation_range=12, width_shift_range=0.1, shear_range=0.3,\n",
        "                        height_shift_range=0.1, zoom_range=0.1, data_format='channels_first')\n",
        "batches = gen.flow(x_train, y_train, batch_size=batch_size)\n",
        "test_batches = gen.flow(x_test, y_test, batch_size=batch_size)\n",
        "steps_per_epoch = int(np.ceil(batches.n/batch_size))\n",
        "validation_steps = int(np.ceil(test_batches.n/batch_size))\n",
        "\n",
        "\n",
        "eval_batch_size = 512\n",
        "\n",
        "# how many iterations with how many epochs we want to train\n",
        "num_iterations = 1\n",
        "num_epochs = 1\n",
        "for iteration in range(num_iterations):\n",
        "    cur_epoch = (iteration+1)*num_epochs + weights_epoch\n",
        "    print(\"iteration {}, cur_epoch {}\".format(iteration+1, cur_epoch))\n",
        "    \n",
        "    # train models for specified number of epochs\n",
        "    for i,m in enumerate(models):\n",
        "        opt = tf.keras.optimizers.Adam(learning_rate=0.01)\n",
        "        m.compile(loss='categorical_crossentropy', optimizer=opt)\n",
        "\n",
        "        # You can either instantiate an optimizer before passing it to model.compile(), or you can pass it by its string identifier(use default parameters)\n",
        "        # m.compile(loss='categorical_crossentropy', optimizer='adam')\n",
        "        \n",
        "        # Usage in a custom training loop\n",
        "        # When writing a custom training loop, you would retrieve gradients via a tf.GradientTape instance, then call optimizer.apply_gradients() to update your weights:\n",
        "\n",
        "        # Instantiate an optimizer.\n",
        "        optimizer = tf.keras.optimizers.Adam()\n",
        "\n",
        "        # # Iterate over the batches of a dataset.\n",
        "        # for x, y in dataset:\n",
        "        #     # Open a GradientTape.\n",
        "        #     with tf.GradientTape() as tape:\n",
        "        #         # Forward pass.\n",
        "        #         logits = model(x)\n",
        "        #         # Loss value for this batch.\n",
        "        #         loss_value = loss_fn(y, logits)\n",
        "\n",
        "        # # Get gradients of loss wrt the weights.\n",
        "        # gradients = tape.gradient(loss_value, model.trainable_weights)\n",
        "\n",
        "        # # Update the weights of the model.\n",
        "        # optimizer.apply_gradients(zip(gradients, model.trainable_weights))\n",
        "\n",
        "\n",
        "\n",
        "\n",
        "\n",
        "        h = m.fit_generator(batches, steps_per_epoch=steps_per_epoch, epochs=num_epochs, verbose=0, validation_data=test_batches, validation_steps=validation_steps)\n",
        "        \n",
        "        # save model weights\n",
        "        m.save_weights(\"dropout_0.2/weights/{:03d}epochs_weights_model_{}.pkl\".format(cur_epoch, i))\n",
        "        \n",
        "        \n",
        "    # # evaluate test error rate for ensemble\n",
        "    # all_preds = np.stack([m.predict(x_test, batch_size=eval_batch_size) for m in models]) \n",
        "    # avg_preds = all_preds.mean(axis=0)\n",
        "    # test_error_ensemble = (1 - keras.metrics.categorical_accuracy(y_test, avg_preds).eval().mean()) * 100\n",
        "    \n",
        "    # # write test error rate for ensemble and every single model to text file\n",
        "    # with open(\"dropout_0.2/history/test_errors_epoch_{:03d}.txt\".format(cur_epoch), \"w\") as text_file:\n",
        "    #     text_file.write(\"epoch: {} test error on ensemble: {}\\n\".format(cur_epoch, test_error_ensemble))\n",
        "\n",
        "    #     for m in models:\n",
        "    #         pred = np.array(m.predict(x_test, batch_size=eval_batch_size))\n",
        "    #         test_err = (1 - keras.metrics.categorical_accuracy(y_test, pred).eval().mean()) * 100\n",
        "    #         text_file.write(\"{}\\n\".format(test_err))"
      ],
      "metadata": {
        "colab": {
          "base_uri": "https://localhost:8080/",
          "height": 524
        },
        "id": "QIq1PByhwbHX",
        "outputId": "f5d140be-fa89-4b78-d7d2-d76435c28172"
      },
      "execution_count": null,
      "outputs": [
        {
          "output_type": "stream",
          "name": "stderr",
          "text": [
            "/usr/local/lib/python3.7/dist-packages/keras_preprocessing/image/numpy_array_iterator.py:136: UserWarning: NumpyArrayIterator is set to use the data format convention \"channels_first\" (channels on axis 1), i.e. expected either 1, 3, or 4 channels on axis 1. However, it was passed an array with shape (60000, 28, 28, 1) (28 channels).\n",
            "  str(self.x.shape[channels_axis]) + ' channels).')\n",
            "/usr/local/lib/python3.7/dist-packages/keras_preprocessing/image/numpy_array_iterator.py:136: UserWarning: NumpyArrayIterator is set to use the data format convention \"channels_first\" (channels on axis 1), i.e. expected either 1, 3, or 4 channels on axis 1. However, it was passed an array with shape (10000, 28, 28, 1) (28 channels).\n",
            "  str(self.x.shape[channels_axis]) + ' channels).')\n",
            "/usr/local/lib/python3.7/dist-packages/ipykernel_launcher.py:54: UserWarning: `Model.fit_generator` is deprecated and will be removed in a future version. Please use `Model.fit`, which supports generators.\n"
          ]
        },
        {
          "output_type": "stream",
          "name": "stdout",
          "text": [
            "iteration 1, cur_epoch 1\n"
          ]
        },
        {
          "output_type": "error",
          "ename": "KeyboardInterrupt",
          "evalue": "ignored",
          "traceback": [
            "\u001b[0;31m---------------------------------------------------------------------------\u001b[0m",
            "\u001b[0;31mKeyboardInterrupt\u001b[0m                         Traceback (most recent call last)",
            "\u001b[0;32m<ipython-input-47-dbd13fe9d537>\u001b[0m in \u001b[0;36m<module>\u001b[0;34m()\u001b[0m\n\u001b[1;32m     52\u001b[0m \u001b[0;34m\u001b[0m\u001b[0m\n\u001b[1;32m     53\u001b[0m \u001b[0;34m\u001b[0m\u001b[0m\n\u001b[0;32m---> 54\u001b[0;31m         \u001b[0mh\u001b[0m \u001b[0;34m=\u001b[0m \u001b[0mm\u001b[0m\u001b[0;34m.\u001b[0m\u001b[0mfit_generator\u001b[0m\u001b[0;34m(\u001b[0m\u001b[0mbatches\u001b[0m\u001b[0;34m,\u001b[0m \u001b[0msteps_per_epoch\u001b[0m\u001b[0;34m=\u001b[0m\u001b[0msteps_per_epoch\u001b[0m\u001b[0;34m,\u001b[0m \u001b[0mepochs\u001b[0m\u001b[0;34m=\u001b[0m\u001b[0mnum_epochs\u001b[0m\u001b[0;34m,\u001b[0m \u001b[0mverbose\u001b[0m\u001b[0;34m=\u001b[0m\u001b[0;36m0\u001b[0m\u001b[0;34m,\u001b[0m \u001b[0mvalidation_data\u001b[0m\u001b[0;34m=\u001b[0m\u001b[0mtest_batches\u001b[0m\u001b[0;34m,\u001b[0m \u001b[0mvalidation_steps\u001b[0m\u001b[0;34m=\u001b[0m\u001b[0mvalidation_steps\u001b[0m\u001b[0;34m)\u001b[0m\u001b[0;34m\u001b[0m\u001b[0;34m\u001b[0m\u001b[0m\n\u001b[0m\u001b[1;32m     55\u001b[0m \u001b[0;34m\u001b[0m\u001b[0m\n\u001b[1;32m     56\u001b[0m         \u001b[0;31m# save model weights\u001b[0m\u001b[0;34m\u001b[0m\u001b[0;34m\u001b[0m\u001b[0;34m\u001b[0m\u001b[0m\n",
            "\u001b[0;32m/usr/local/lib/python3.7/dist-packages/keras/engine/training.py\u001b[0m in \u001b[0;36mfit_generator\u001b[0;34m(self, generator, steps_per_epoch, epochs, verbose, callbacks, validation_data, validation_steps, validation_freq, class_weight, max_queue_size, workers, use_multiprocessing, shuffle, initial_epoch)\u001b[0m\n\u001b[1;32m   2221\u001b[0m         \u001b[0muse_multiprocessing\u001b[0m\u001b[0;34m=\u001b[0m\u001b[0muse_multiprocessing\u001b[0m\u001b[0;34m,\u001b[0m\u001b[0;34m\u001b[0m\u001b[0;34m\u001b[0m\u001b[0m\n\u001b[1;32m   2222\u001b[0m         \u001b[0mshuffle\u001b[0m\u001b[0;34m=\u001b[0m\u001b[0mshuffle\u001b[0m\u001b[0;34m,\u001b[0m\u001b[0;34m\u001b[0m\u001b[0;34m\u001b[0m\u001b[0m\n\u001b[0;32m-> 2223\u001b[0;31m         initial_epoch=initial_epoch)\n\u001b[0m\u001b[1;32m   2224\u001b[0m \u001b[0;34m\u001b[0m\u001b[0m\n\u001b[1;32m   2225\u001b[0m   \u001b[0;34m@\u001b[0m\u001b[0mdoc_controls\u001b[0m\u001b[0;34m.\u001b[0m\u001b[0mdo_not_generate_docs\u001b[0m\u001b[0;34m\u001b[0m\u001b[0;34m\u001b[0m\u001b[0m\n",
            "\u001b[0;32m/usr/local/lib/python3.7/dist-packages/keras/utils/traceback_utils.py\u001b[0m in \u001b[0;36merror_handler\u001b[0;34m(*args, **kwargs)\u001b[0m\n\u001b[1;32m     62\u001b[0m     \u001b[0mfiltered_tb\u001b[0m \u001b[0;34m=\u001b[0m \u001b[0;32mNone\u001b[0m\u001b[0;34m\u001b[0m\u001b[0;34m\u001b[0m\u001b[0m\n\u001b[1;32m     63\u001b[0m     \u001b[0;32mtry\u001b[0m\u001b[0;34m:\u001b[0m\u001b[0;34m\u001b[0m\u001b[0;34m\u001b[0m\u001b[0m\n\u001b[0;32m---> 64\u001b[0;31m       \u001b[0;32mreturn\u001b[0m \u001b[0mfn\u001b[0m\u001b[0;34m(\u001b[0m\u001b[0;34m*\u001b[0m\u001b[0margs\u001b[0m\u001b[0;34m,\u001b[0m \u001b[0;34m**\u001b[0m\u001b[0mkwargs\u001b[0m\u001b[0;34m)\u001b[0m\u001b[0;34m\u001b[0m\u001b[0;34m\u001b[0m\u001b[0m\n\u001b[0m\u001b[1;32m     65\u001b[0m     \u001b[0;32mexcept\u001b[0m \u001b[0mException\u001b[0m \u001b[0;32mas\u001b[0m \u001b[0me\u001b[0m\u001b[0;34m:\u001b[0m  \u001b[0;31m# pylint: disable=broad-except\u001b[0m\u001b[0;34m\u001b[0m\u001b[0;34m\u001b[0m\u001b[0m\n\u001b[1;32m     66\u001b[0m       \u001b[0mfiltered_tb\u001b[0m \u001b[0;34m=\u001b[0m \u001b[0m_process_traceback_frames\u001b[0m\u001b[0;34m(\u001b[0m\u001b[0me\u001b[0m\u001b[0;34m.\u001b[0m\u001b[0m__traceback__\u001b[0m\u001b[0;34m)\u001b[0m\u001b[0;34m\u001b[0m\u001b[0;34m\u001b[0m\u001b[0m\n",
            "\u001b[0;31mKeyboardInterrupt\u001b[0m: "
          ]
        }
      ]
    },
    {
      "cell_type": "markdown",
      "metadata": {
        "id": "E5fS0N7lSbGD"
      },
      "source": [
        "# Training a Neural Network "
      ]
    },
    {
      "cell_type": "code",
      "execution_count": null,
      "metadata": {
        "id": "IRcxhEtDSbGD",
        "outputId": "1a34b7e7-f706-4eea-c9d6-0b190c78c212"
      },
      "outputs": [
        {
          "name": "stdout",
          "output_type": "stream",
          "text": [
            "Epoch 1/20\n",
            "235/235 [==============================] - 23s 96ms/step - loss: 0.3356 - val_loss: 0.0715\n",
            "Epoch 2/20\n",
            "235/235 [==============================] - 22s 93ms/step - loss: 0.0870 - val_loss: 0.0422\n",
            "Epoch 3/20\n",
            "235/235 [==============================] - 22s 93ms/step - loss: 0.0630 - val_loss: 0.0341\n",
            "Epoch 4/20\n",
            "235/235 [==============================] - 22s 93ms/step - loss: 0.0516 - val_loss: 0.0281\n",
            "Epoch 5/20\n",
            "235/235 [==============================] - 22s 94ms/step - loss: 0.0449 - val_loss: 0.0246\n",
            "Epoch 6/20\n",
            "235/235 [==============================] - 22s 95ms/step - loss: 0.0383 - val_loss: 0.0226\n",
            "Epoch 7/20\n",
            "235/235 [==============================] - 22s 93ms/step - loss: 0.0333 - val_loss: 0.0247\n",
            "Epoch 8/20\n",
            "235/235 [==============================] - 23s 97ms/step - loss: 0.0303 - val_loss: 0.0279\n",
            "Epoch 9/20\n",
            "235/235 [==============================] - 22s 94ms/step - loss: 0.0284 - val_loss: 0.0243\n",
            "Epoch 10/20\n",
            "235/235 [==============================] - 22s 95ms/step - loss: 0.0254 - val_loss: 0.0230\n",
            "Epoch 11/20\n",
            "235/235 [==============================] - 23s 99ms/step - loss: 0.0242 - val_loss: 0.0250\n",
            "Epoch 12/20\n",
            "235/235 [==============================] - 23s 97ms/step - loss: 0.0214 - val_loss: 0.0209\n",
            "Epoch 13/20\n",
            "235/235 [==============================] - 22s 93ms/step - loss: 0.0195 - val_loss: 0.0222\n",
            "Epoch 14/20\n",
            "235/235 [==============================] - 22s 93ms/step - loss: 0.0195 - val_loss: 0.0216\n",
            "Epoch 15/20\n",
            "235/235 [==============================] - 22s 96ms/step - loss: 0.0167 - val_loss: 0.0210\n",
            "Epoch 16/20\n",
            "235/235 [==============================] - 22s 94ms/step - loss: 0.0153 - val_loss: 0.0207\n",
            "Epoch 17/20\n",
            "235/235 [==============================] - 22s 93ms/step - loss: 0.0152 - val_loss: 0.0235\n",
            "Epoch 18/20\n",
            "235/235 [==============================] - 22s 95ms/step - loss: 0.0145 - val_loss: 0.0250\n",
            "Epoch 19/20\n",
            "235/235 [==============================] - 22s 93ms/step - loss: 0.0132 - val_loss: 0.0220\n",
            "Epoch 20/20\n",
            "235/235 [==============================] - 22s 95ms/step - loss: 0.0121 - val_loss: 0.0236\n"
          ]
        }
      ],
      "source": [
        "# This is achieved by first compiling the network, at this stage the cost function (https://keras.io/losses/) and \n",
        "# the optimizer (https://keras.io/optimizers/) that is to be used for training is defined. \n",
        "# Next the training is performed using the function fit. This function needs to be supplied with \n",
        "# the training data, and optionally, validation data, and other parameters such as \n",
        "# the number of epochs and the batch size to be used, e.g.:\n",
        "net.compile(loss='categorical_crossentropy', optimizer='adam')\n",
        "history = net.fit(x_train, y_train,\n",
        "validation_data=(x_test, y_test), epochs=20, batch_size=256)"
      ]
    },
    {
      "cell_type": "code",
      "execution_count": null,
      "metadata": {
        "id": "nCGNdqZXSbGE",
        "outputId": "19e88896-a94e-4a5c-e940-51eabe4ff66d"
      },
      "outputs": [
        {
          "data": {
            "text/plain": [
              "<matplotlib.legend.Legend at 0x1dcf8f08898>"
            ]
          },
          "execution_count": 16,
          "metadata": {},
          "output_type": "execute_result"
        },
        {
          "data": {
            "image/png": "[encoded data removed]",
            "text/plain": [
              "<Figure size 432x288 with 1 Axes>"
            ]
          },
          "metadata": {
            "needs_background": "light"
          },
          "output_type": "display_data"
        }
      ],
      "source": [
        "# The history variable returned by the fit function can be used to produce a plot showing the\n",
        "# change in the cost function during training:\n",
        "import matplotlib.pyplot as plt\n",
        "plt.figure()\n",
        "plt.plot(history.history['loss'], label='training loss')\n",
        "plt.plot(history.history['val_loss'], label='validation loss')\n",
        "plt.xlabel('epochs')\n",
        "plt.ylabel('loss')\n",
        "plt.legend()\n"
      ]
    },
    {
      "cell_type": "code",
      "execution_count": null,
      "metadata": {
        "id": "5_yvpEUQSbGE"
      },
      "outputs": [],
      "source": [
        "# A trained network can be saved to disk using:\n",
        "net.save(\"network_for_mnist.h5\")"
      ]
    },
    {
      "cell_type": "code",
      "execution_count": null,
      "metadata": {
        "id": "BOY6vUIgSbGF"
      },
      "outputs": [],
      "source": [
        "# A saved model can be reloaded using:\n",
        "from tensorflow.keras.models import load_model\n",
        "net=load_model(\"network_for_mnist.h5\")"
      ]
    },
    {
      "cell_type": "markdown",
      "metadata": {
        "id": "2QJyhB_OSbGF"
      },
      "source": [
        "# Testing a Neural Network"
      ]
    },
    {
      "cell_type": "code",
      "execution_count": null,
      "metadata": {
        "id": "52w5fRiRSbGF",
        "outputId": "0eae3607-db45-4759-c903-cb27591151a4"
      },
      "outputs": [
        {
          "name": "stdout",
          "output_type": "stream",
          "text": [
            "Percentage misclassified =  0.7\n"
          ]
        }
      ],
      "source": [
        "# The performance of the trained network can be tested, for example, by finding the outputs that\n",
        "# it produces to the testing data, and comparing these to the true category labels:\n",
        "import numpy as np\n",
        "outputs=net.predict(x_test)\n",
        "labels_predicted=np.argmax(outputs, axis=1)\n",
        "misclassified=sum(labels_predicted!=labels_test)\n",
        "print('Percentage misclassified = ',100*misclassified/labels_test.size)"
      ]
    },
    {
      "cell_type": "code",
      "execution_count": null,
      "metadata": {
        "id": "9bAuDwfdSbGG",
        "outputId": "b50e1777-87b9-4a8d-c216-26773d87699a"
      },
      "outputs": [
        {
          "data": {
            "image/png": "[encoded data removed]",
            "text/plain": [
              "<Figure size 576x144 with 16 Axes>"
            ]
          },
          "metadata": {
            "needs_background": "light"
          },
          "output_type": "display_data"
        }
      ],
      "source": [
        "# To show the outputs a network produces for a few specific exemplars:\n",
        "plt.figure(figsize=(8, 2))\n",
        "for i in range(0,8):\n",
        "    ax=plt.subplot(2,8,i+1)\n",
        "    plt.imshow(x_test[i,:].reshape(28,28), cmap=plt.get_cmap('gray_r'))\n",
        "    plt.title(labels_test[i])\n",
        "    ax.get_xaxis().set_visible(False)\n",
        "    ax.get_yaxis().set_visible(False)\n",
        "for i in range(0,8):\n",
        "#     output = net.predict(x_test[i,:].reshape(1, 784)) #if MLP\n",
        "    output = net.predict(x_test[i,:].reshape(1, 28,28,1)) #if CNN\n",
        "    output=output[0,0:]\n",
        "    plt.subplot(2,8,8+i+1)\n",
        "    plt.bar(np.arange(10.),output)\n",
        "    plt.title(np.argmax(output))"
      ]
    },
    {
      "cell_type": "code",
      "execution_count": null,
      "metadata": {
        "id": "wa1OuGU_SbGH",
        "outputId": "f6e24237-f76d-4fcd-e282-51610f921a4c",
        "colab": {
          "base_uri": "https://localhost:8080/"
        }
      },
      "outputs": [
        {
          "output_type": "stream",
          "name": "stdout",
          "text": [
            "/content\n"
          ]
        }
      ],
      "source": [
        "import numpy as np\n",
        "import os\n",
        "from tensorflow.keras.models import load_model\n",
        "\n",
        "#load .h5 file of arbitrary name for testing (last if more than one)\n",
        "print(os.getcwd())\n",
        "for file in os.listdir(os.getcwd()):\n",
        "    if file.endswith(\".h5\"):\n",
        "        print(file)\n",
        "        net=load_model(file)\n",
        "net.summary()\n",
        "\n",
        "#determine what type of network this is\n",
        "conf=net.layers[0].get_config()\n",
        "inshape=conf['batch_input_shape']\n",
        "if inshape[1]==28:\n",
        "    netType='CNN'\n",
        "else:\n",
        "    netType='MLP'\n",
        "    \n",
        "#test with MNIST data\n",
        "# from tensorflow.keras.datasets import mnist\n",
        "# (x_train, labels_train), (x_test, labels_test) = mnist.load_data()\n",
        "# x_test = x_test.astype('float32')\n",
        "# x_test /= 255\n",
        "if netType in ['MLP']:\n",
        "    x_test = x_test.reshape(10000, 784)\n",
        "else:\n",
        "    x_test = x_test.reshape(x_test.shape[0], 28, 28, 1)\n",
        "outputs=net.predict(x_test)\n",
        "\n",
        "# Returns the indices of the maximum values along an axis.\n",
        "labels_predicted=np.argmax(outputs, axis=1)\n",
        "correct_classified=sum(labels_predicted==labels_test)\n",
        "print('Percentage correctly classified MNIST= ',100*correct_classified/labels_test.size)\n"
      ]
    },
    {
      "cell_type": "code",
      "execution_count": null,
      "metadata": {
        "id": "BIzZjoGlSbGI"
      },
      "outputs": [],
      "source": [
        ""
      ]
    },
    {
      "cell_type": "code",
      "source": [
        ""
      ],
      "metadata": {
        "id": "Vx6y5kcH_3fV"
      },
      "execution_count": null,
      "outputs": []
    }
  ],
  "metadata": {
    "kernelspec": {
      "display_name": "Python 3",
      "language": "python",
      "name": "python3"
    },
    "language_info": {
      "codemirror_mode": {
        "name": "ipython",
        "version": 3
      },
      "file_extension": ".py",
      "mimetype": "text/x-python",
      "name": "python",
      "nbconvert_exporter": "python",
      "pygments_lexer": "ipython3",
      "version": "3.7.3"
    },
    "colab": {
      "name": "PNN_added.ipynb",
      "provenance": [],
      "collapsed_sections": [
        "uE8taPkZSbF_"
      ]
    }
  },
  "nbformat": 4,
  "nbformat_minor": 0
}