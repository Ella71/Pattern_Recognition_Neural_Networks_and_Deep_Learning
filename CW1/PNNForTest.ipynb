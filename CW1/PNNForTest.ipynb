{
 "cells": [
  {
   "cell_type": "code",
   "execution_count": 4,
   "metadata": {},
   "outputs": [],
   "source": [
    "import numpy as np\n",
    "import os\n",
    "import keras\n",
    "from tensorflow.keras.models import load_model\n"
   ]
  },
  {
   "cell_type": "code",
   "execution_count": 10,
   "metadata": {},
   "outputs": [
    {
     "name": "stdout",
     "output_type": "stream",
     "text": [
      "C:\\Users\\Huiyi\\Desktop\\PNN\n",
      "Model: \"sequential_14\"\n",
      "_________________________________________________________________\n",
      " Layer (type)                Output Shape              Param #   \n",
      "=================================================================\n",
      " conv2d_25 (Conv2D)          (None, 24, 24, 32)        832       \n",
      "                                                                 \n",
      " max_pooling2d_19 (MaxPoolin  (None, 12, 12, 32)       0         \n",
      " g2D)                                                            \n",
      "                                                                 \n",
      " conv2d_26 (Conv2D)          (None, 10, 10, 32)        9248      \n",
      "                                                                 \n",
      " max_pooling2d_20 (MaxPoolin  (None, 5, 5, 32)         0         \n",
      " g2D)                                                            \n",
      "                                                                 \n",
      " flatten_8 (Flatten)         (None, 800)               0         \n",
      "                                                                 \n",
      " dense_23 (Dense)            (None, 256)               205056    \n",
      "                                                                 \n",
      " dropout_20 (Dropout)        (None, 256)               0         \n",
      "                                                                 \n",
      " dense_24 (Dense)            (None, 10)                2570      \n",
      "                                                                 \n",
      "=================================================================\n",
      "Total params: 217,706\n",
      "Trainable params: 217,706\n",
      "Non-trainable params: 0\n",
      "_________________________________________________________________\n",
      "Percentage correctly classified MNIST= 98.98\n"
     ]
    }
   ],
   "source": [
    "print(os.getcwd())\n",
    "file = \"network_for_mnist---emnist.h5\"\n",
    "# file = \"network_for_mnist_data15.h5\"\n",
    "# file = \"network_for_mnist_originaldata.h5\"\n",
    "net=load_model(file)\n",
    "net.summary()\n",
    "#determine what type of network this is\n",
    "conf=net.layers[0].get_config()\n",
    "inshape=conf['batch_input_shape']\n",
    "if inshape[1]==28:\n",
    "    netType='CNN'\n",
    "else:\n",
    "    netType='MLP'\n",
    "#test with MNIST data\n",
    "from tensorflow.keras.datasets import mnist\n",
    "(x_train, labels_train), (x_test, labels_test) = mnist.load_data()\n",
    "x_test = x_test.astype('float32')\n",
    "x_test /= 255\n",
    "if netType in ['MLP']:\n",
    "    x_test = x_test.reshape(10000, 784)\n",
    "else:\n",
    "    x_test = x_test.reshape(x_test.shape[0], 28, 28, 1)\n",
    "outputs=net.predict(x_test)\n",
    "labels_predicted=np.argmax(outputs, axis=1)\n",
    "correct_classified=sum(labels_predicted==labels_test)\n",
    "print('Percentage correctly classified MNIST=',100*correct_classified/labels_test.size)"
   ]
  },
  {
   "cell_type": "code",
   "execution_count": null,
   "metadata": {},
   "outputs": [],
   "source": []
  },
  {
   "cell_type": "code",
   "execution_count": null,
   "metadata": {},
   "outputs": [],
   "source": []
  }
 ],
 "metadata": {
  "kernelspec": {
   "display_name": "Python 3",
   "language": "python",
   "name": "python3"
  },
  "language_info": {
   "codemirror_mode": {
    "name": "ipython",
    "version": 3
   },
   "file_extension": ".py",
   "mimetype": "text/x-python",
   "name": "python",
   "nbconvert_exporter": "python",
   "pygments_lexer": "ipython3",
   "version": "3.7.3"
  }
 },
 "nbformat": 4,
 "nbformat_minor": 2
}
